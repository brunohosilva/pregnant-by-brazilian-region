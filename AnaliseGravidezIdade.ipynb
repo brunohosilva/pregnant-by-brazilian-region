{
 "cells": [
  {
   "cell_type": "code",
   "execution_count": 2,
   "metadata": {},
   "outputs": [
    {
     "data": {
      "text/html": [
       "<div>\n",
       "<style scoped>\n",
       "    .dataframe tbody tr th:only-of-type {\n",
       "        vertical-align: middle;\n",
       "    }\n",
       "\n",
       "    .dataframe tbody tr th {\n",
       "        vertical-align: top;\n",
       "    }\n",
       "\n",
       "    .dataframe thead th {\n",
       "        text-align: right;\n",
       "    }\n",
       "</style>\n",
       "<table border=\"1\" class=\"dataframe\">\n",
       "  <thead>\n",
       "    <tr style=\"text-align: right;\">\n",
       "      <th></th>\n",
       "      <th>Região/Unidade da Federação</th>\n",
       "      <th>Menor de 10 anos</th>\n",
       "      <th>10 a 14 anos</th>\n",
       "      <th>15 a 19 anos</th>\n",
       "      <th>20 a 24 anos</th>\n",
       "      <th>25 a 29 anos</th>\n",
       "      <th>30 a 34 anos</th>\n",
       "      <th>35 a 39 anos</th>\n",
       "      <th>40 a 44 anos</th>\n",
       "      <th>45 a 49 anos</th>\n",
       "      <th>50 a 54 anos</th>\n",
       "      <th>55 a 59 anos</th>\n",
       "      <th>60 a 64 anos</th>\n",
       "      <th>65 a 69 anos</th>\n",
       "      <th>Idade ignorada</th>\n",
       "      <th>Total</th>\n",
       "    </tr>\n",
       "  </thead>\n",
       "  <tbody>\n",
       "    <tr>\n",
       "      <th>0</th>\n",
       "      <td>Região Norte</td>\n",
       "      <td>0</td>\n",
       "      <td>4781</td>\n",
       "      <td>71261</td>\n",
       "      <td>89670</td>\n",
       "      <td>67361</td>\n",
       "      <td>46064</td>\n",
       "      <td>21669</td>\n",
       "      <td>5278</td>\n",
       "      <td>386</td>\n",
       "      <td>31</td>\n",
       "      <td>3</td>\n",
       "      <td>4</td>\n",
       "      <td>1</td>\n",
       "      <td>21</td>\n",
       "      <td>306530</td>\n",
       "    </tr>\n",
       "    <tr>\n",
       "      <th>8</th>\n",
       "      <td>Região Nordeste</td>\n",
       "      <td>3</td>\n",
       "      <td>9218</td>\n",
       "      <td>158762</td>\n",
       "      <td>212523</td>\n",
       "      <td>184879</td>\n",
       "      <td>142071</td>\n",
       "      <td>70744</td>\n",
       "      <td>17360</td>\n",
       "      <td>1106</td>\n",
       "      <td>68</td>\n",
       "      <td>18</td>\n",
       "      <td>8</td>\n",
       "      <td>0</td>\n",
       "      <td>6</td>\n",
       "      <td>796766</td>\n",
       "    </tr>\n",
       "    <tr>\n",
       "      <th>18</th>\n",
       "      <td>Região Sudeste</td>\n",
       "      <td>1</td>\n",
       "      <td>6065</td>\n",
       "      <td>155295</td>\n",
       "      <td>265394</td>\n",
       "      <td>273787</td>\n",
       "      <td>248764</td>\n",
       "      <td>143388</td>\n",
       "      <td>33329</td>\n",
       "      <td>1933</td>\n",
       "      <td>95</td>\n",
       "      <td>18</td>\n",
       "      <td>7</td>\n",
       "      <td>0</td>\n",
       "      <td>20</td>\n",
       "      <td>1128096</td>\n",
       "    </tr>\n",
       "    <tr>\n",
       "      <th>23</th>\n",
       "      <td>Região Sul</td>\n",
       "      <td>0</td>\n",
       "      <td>2156</td>\n",
       "      <td>54027</td>\n",
       "      <td>92161</td>\n",
       "      <td>96604</td>\n",
       "      <td>86739</td>\n",
       "      <td>47998</td>\n",
       "      <td>11223</td>\n",
       "      <td>602</td>\n",
       "      <td>31</td>\n",
       "      <td>0</td>\n",
       "      <td>4</td>\n",
       "      <td>0</td>\n",
       "      <td>3</td>\n",
       "      <td>391548</td>\n",
       "    </tr>\n",
       "    <tr>\n",
       "      <th>27</th>\n",
       "      <td>Região Centro0Oeste</td>\n",
       "      <td>0</td>\n",
       "      <td>1915</td>\n",
       "      <td>37901</td>\n",
       "      <td>61553</td>\n",
       "      <td>57845</td>\n",
       "      <td>46453</td>\n",
       "      <td>23607</td>\n",
       "      <td>5247</td>\n",
       "      <td>294</td>\n",
       "      <td>33</td>\n",
       "      <td>8</td>\n",
       "      <td>3</td>\n",
       "      <td>0</td>\n",
       "      <td>1</td>\n",
       "      <td>234860</td>\n",
       "    </tr>\n",
       "  </tbody>\n",
       "</table>\n",
       "</div>"
      ],
      "text/plain": [
       "   Região/Unidade da Federação  Menor de 10 anos  10 a 14 anos  15 a 19 anos  \\\n",
       "0                 Região Norte                 0          4781         71261   \n",
       "8              Região Nordeste                 3          9218        158762   \n",
       "18              Região Sudeste                 1          6065        155295   \n",
       "23                  Região Sul                 0          2156         54027   \n",
       "27         Região Centro0Oeste                 0          1915         37901   \n",
       "\n",
       "    20 a 24 anos  25 a 29 anos  30 a 34 anos  35 a 39 anos  40 a 44 anos  \\\n",
       "0          89670         67361         46064         21669          5278   \n",
       "8         212523        184879        142071         70744         17360   \n",
       "18        265394        273787        248764        143388         33329   \n",
       "23         92161         96604         86739         47998         11223   \n",
       "27         61553         57845         46453         23607          5247   \n",
       "\n",
       "    45 a 49 anos  50 a 54 anos  55 a 59 anos  60 a 64 anos  65 a 69 anos  \\\n",
       "0            386            31             3             4             1   \n",
       "8           1106            68            18             8             0   \n",
       "18          1933            95            18             7             0   \n",
       "23           602            31             0             4             0   \n",
       "27           294            33             8             3             0   \n",
       "\n",
       "    Idade ignorada    Total  \n",
       "0               21   306530  \n",
       "8                6   796766  \n",
       "18              20  1128096  \n",
       "23               3   391548  \n",
       "27               1   234860  "
      ]
     },
     "execution_count": 2,
     "metadata": {},
     "output_type": "execute_result"
    }
   ],
   "source": [
    "import pandas as pd\n",
    "df = pd.read_csv(\"taxa.csv\", low_memory=False, encoding=\"latin-1\", delimiter=\";\", decimal=',')\n",
    "df.loc[[0,8,18,23,27]]"
   ]
  },
  {
   "cell_type": "code",
   "execution_count": 1,
   "metadata": {},
   "outputs": [
    {
     "data": {
      "text/plain": [
       "'2.7.15 (default, May  1 2018, 05:55:50) \\n[GCC 7.3.0]'"
      ]
     },
     "execution_count": 1,
     "metadata": {},
     "output_type": "execute_result"
    }
   ],
   "source": [
    "import sys;\n",
    "sys.version"
   ]
  },
  {
   "cell_type": "code",
   "execution_count": null,
   "metadata": {},
   "outputs": [],
   "source": []
  },
  {
   "cell_type": "code",
   "execution_count": null,
   "metadata": {},
   "outputs": [],
   "source": []
  },
  {
   "cell_type": "code",
   "execution_count": 8,
   "metadata": {},
   "outputs": [],
   "source": [
    "df.loc[[0,8,18,23,27], '10 a 14 anos']\n",
    "d = df.loc[[0,8,18,23,27],'Região/Unidade da Federação']"
   ]
  },
  {
   "cell_type": "code",
   "execution_count": 9,
   "metadata": {},
   "outputs": [],
   "source": [
    "cl = ['10 a 14 anos',\n",
    "       '15 a 19 anos', '20 a 24 anos', '25 a 29 anos', '30 a 34 anos',\n",
    "       '35 a 39 anos', '40 a 44 anos', '45 a 49 anos', '50 a 54 anos']"
   ]
  },
  {
   "cell_type": "code",
   "execution_count": 10,
   "metadata": {},
   "outputs": [
    {
     "ename": "ModuleNotFoundError",
     "evalue": "No module named 'matplotlib'",
     "output_type": "error",
     "traceback": [
      "\u001b[0;31m---------------------------------------------------------------------------\u001b[0m",
      "\u001b[0;31mModuleNotFoundError\u001b[0m                       Traceback (most recent call last)",
      "\u001b[0;32m<ipython-input-10-b383cdd7dbef>\u001b[0m in \u001b[0;36m<module>\u001b[0;34m\u001b[0m\n\u001b[0;32m----> 1\u001b[0;31m \u001b[0;32mimport\u001b[0m \u001b[0mmatplotlib\u001b[0m\u001b[0;34m.\u001b[0m\u001b[0mpyplot\u001b[0m \u001b[0;32mas\u001b[0m \u001b[0mplt\u001b[0m\u001b[0;34m\u001b[0m\u001b[0m\n\u001b[0m\u001b[1;32m      2\u001b[0m \u001b[0mplt\u001b[0m\u001b[0;34m.\u001b[0m\u001b[0maxis\u001b[0m\u001b[0;34m(\u001b[0m\u001b[0;34m'equal'\u001b[0m\u001b[0;34m)\u001b[0m\u001b[0;34m\u001b[0m\u001b[0m\n\u001b[1;32m      3\u001b[0m \u001b[0;32mfor\u001b[0m \u001b[0mx\u001b[0m \u001b[0;32min\u001b[0m \u001b[0mcl\u001b[0m\u001b[0;34m:\u001b[0m\u001b[0;34m\u001b[0m\u001b[0m\n\u001b[1;32m      4\u001b[0m     \u001b[0mqtd\u001b[0m \u001b[0;34m=\u001b[0m \u001b[0mdf\u001b[0m\u001b[0;34m.\u001b[0m\u001b[0mloc\u001b[0m\u001b[0;34m[\u001b[0m\u001b[0;34m[\u001b[0m\u001b[0;36m0\u001b[0m\u001b[0;34m,\u001b[0m\u001b[0;36m8\u001b[0m\u001b[0;34m,\u001b[0m\u001b[0;36m18\u001b[0m\u001b[0;34m,\u001b[0m\u001b[0;36m23\u001b[0m\u001b[0;34m,\u001b[0m\u001b[0;36m27\u001b[0m\u001b[0;34m]\u001b[0m\u001b[0;34m,\u001b[0m \u001b[0mx\u001b[0m\u001b[0;34m]\u001b[0m\u001b[0;34m\u001b[0m\u001b[0m\n\u001b[1;32m      5\u001b[0m     \u001b[0mex\u001b[0m \u001b[0;34m=\u001b[0m \u001b[0;34m[\u001b[0m\u001b[0;36m0\u001b[0m\u001b[0;34m,\u001b[0m \u001b[0;36m0\u001b[0m\u001b[0;34m,\u001b[0m \u001b[0;36m0\u001b[0m\u001b[0;34m,\u001b[0m \u001b[0;36m0\u001b[0m\u001b[0;34m,\u001b[0m \u001b[0;36m0\u001b[0m\u001b[0;34m]\u001b[0m\u001b[0;34m\u001b[0m\u001b[0m\n",
      "\u001b[0;31mModuleNotFoundError\u001b[0m: No module named 'matplotlib'"
     ]
    }
   ],
   "source": [
    "import matplotlib.pyplot as plt\n",
    "plt.axis('equal')\n",
    "for x in cl:\n",
    "    qtd = df.loc[[0,8,18,23,27], x]\n",
    "    ex = [0, 0, 0, 0, 0]\n",
    "    qtd2 = []\n",
    "    for y in qtd:\n",
    "        qtd2.append(y)\n",
    "    ex[qtd2.index(max(qtd2))]=0.1\n",
    "    plt.pie(df.loc[[0,8,18,23,27], x], autopct=\"%.2f\", explode = ex,labels = d)\n",
    "    plt.suptitle(\"Gestantes \" + x + \" por Região\")\n",
    "    plt.legend(qtd,title=\"Quantidade\", loc = \"center left\",bbox_to_anchor=(1.5,0,2,1))\n",
    "    plt.show()"
   ]
  }
 ],
 "metadata": {
  "kernelspec": {
   "display_name": "Python 3",
   "language": "python",
   "name": "python3"
  },
  "language_info": {
   "codemirror_mode": {
    "name": "ipython",
    "version": 3
   },
   "file_extension": ".py",
   "mimetype": "text/x-python",
   "name": "python",
   "nbconvert_exporter": "python",
   "pygments_lexer": "ipython3",
   "version": "3.6.5"
  }
 },
 "nbformat": 4,
 "nbformat_minor": 2
}
